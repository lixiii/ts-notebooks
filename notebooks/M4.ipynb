{
 "cells": [
  {
   "cell_type": "code",
   "execution_count": 208,
   "metadata": {},
   "outputs": [
    {
     "data": {
      "text/plain": [
       "<matplotlib.pyplot._IonContext at 0x7fa16e893190>"
      ]
     },
     "execution_count": 208,
     "metadata": {},
     "output_type": "execute_result"
    }
   ],
   "source": [
    "import os\n",
    "\n",
    "import pandas as pd\n",
    "import numpy as np\n",
    "\n",
    "import statsmodels.api as sm\n",
    "\n",
    "%matplotlib inline\n",
    "from matplotlib import pyplot as plt\n",
    "plt.ion()"
   ]
  },
  {
   "cell_type": "code",
   "execution_count": 2,
   "metadata": {},
   "outputs": [],
   "source": [
    "from ipywidgets import interact, interactive, fixed, interact_manual\n",
    "import ipywidgets as widgets"
   ]
  },
  {
   "cell_type": "code",
   "execution_count": 3,
   "metadata": {},
   "outputs": [],
   "source": [
    "dataset_path = \"/Users/lixiii/computing/machine_learning/time-series/M4-dataset\""
   ]
  },
  {
   "cell_type": "code",
   "execution_count": 4,
   "metadata": {},
   "outputs": [
    {
     "name": "stdout",
     "output_type": "stream",
     "text": [
      "/Users/lixiii/computing/machine_learning/time-series/M4-dataset/Weekly-train.csv\n",
      "/Users/lixiii/computing/machine_learning/time-series/M4-dataset/Daily-train.csv\n",
      "/Users/lixiii/computing/machine_learning/time-series/M4-dataset/Hourly-train.csv\n",
      "/Users/lixiii/computing/machine_learning/time-series/M4-dataset/Monthly-test.csv\n",
      "/Users/lixiii/computing/machine_learning/time-series/M4-dataset/Hourly-test.csv\n",
      "/Users/lixiii/computing/machine_learning/time-series/M4-dataset/Weekly-test.csv\n",
      "/Users/lixiii/computing/machine_learning/time-series/M4-dataset/Monthly-train.csv\n",
      "/Users/lixiii/computing/machine_learning/time-series/M4-dataset/Quarterly-test.csv\n",
      "/Users/lixiii/computing/machine_learning/time-series/M4-dataset/Daily-test.csv\n",
      "/Users/lixiii/computing/machine_learning/time-series/M4-dataset/m4_info.csv\n",
      "/Users/lixiii/computing/machine_learning/time-series/M4-dataset/Yearly-test.csv\n",
      "/Users/lixiii/computing/machine_learning/time-series/M4-dataset/Yearly-train.csv\n",
      "/Users/lixiii/computing/machine_learning/time-series/M4-dataset/Quarterly-train.csv\n"
     ]
    }
   ],
   "source": [
    "for dirname, _, filenames in os.walk(dataset_path):\n",
    "    for filename in filenames:\n",
    "        print(os.path.join(dirname, filename))"
   ]
  },
  {
   "cell_type": "code",
   "execution_count": 158,
   "metadata": {},
   "outputs": [
    {
     "name": "stdout",
     "output_type": "stream",
     "text": [
      "(48000, 2795)\n"
     ]
    },
    {
     "data": {
      "text/html": [
       "<div>\n",
       "<style scoped>\n",
       "    .dataframe tbody tr th:only-of-type {\n",
       "        vertical-align: middle;\n",
       "    }\n",
       "\n",
       "    .dataframe tbody tr th {\n",
       "        vertical-align: top;\n",
       "    }\n",
       "\n",
       "    .dataframe thead th {\n",
       "        text-align: right;\n",
       "    }\n",
       "</style>\n",
       "<table border=\"1\" class=\"dataframe\">\n",
       "  <thead>\n",
       "    <tr style=\"text-align: right;\">\n",
       "      <th></th>\n",
       "      <th>V1</th>\n",
       "      <th>V2</th>\n",
       "      <th>V3</th>\n",
       "      <th>V4</th>\n",
       "      <th>V5</th>\n",
       "      <th>V6</th>\n",
       "      <th>V7</th>\n",
       "      <th>V8</th>\n",
       "      <th>V9</th>\n",
       "      <th>V10</th>\n",
       "      <th>...</th>\n",
       "      <th>V2786</th>\n",
       "      <th>V2787</th>\n",
       "      <th>V2788</th>\n",
       "      <th>V2789</th>\n",
       "      <th>V2790</th>\n",
       "      <th>V2791</th>\n",
       "      <th>V2792</th>\n",
       "      <th>V2793</th>\n",
       "      <th>V2794</th>\n",
       "      <th>V2795</th>\n",
       "    </tr>\n",
       "  </thead>\n",
       "  <tbody>\n",
       "    <tr>\n",
       "      <th>0</th>\n",
       "      <td>M1</td>\n",
       "      <td>8000.0</td>\n",
       "      <td>8350.0</td>\n",
       "      <td>8570.0</td>\n",
       "      <td>7700.0</td>\n",
       "      <td>7080.0</td>\n",
       "      <td>6520.0</td>\n",
       "      <td>6070.0</td>\n",
       "      <td>6650.0</td>\n",
       "      <td>6830.0</td>\n",
       "      <td>...</td>\n",
       "      <td>NaN</td>\n",
       "      <td>NaN</td>\n",
       "      <td>NaN</td>\n",
       "      <td>NaN</td>\n",
       "      <td>NaN</td>\n",
       "      <td>NaN</td>\n",
       "      <td>NaN</td>\n",
       "      <td>NaN</td>\n",
       "      <td>NaN</td>\n",
       "      <td>NaN</td>\n",
       "    </tr>\n",
       "    <tr>\n",
       "      <th>1</th>\n",
       "      <td>M2</td>\n",
       "      <td>2440.0</td>\n",
       "      <td>2490.0</td>\n",
       "      <td>2710.0</td>\n",
       "      <td>2290.0</td>\n",
       "      <td>1960.0</td>\n",
       "      <td>1990.0</td>\n",
       "      <td>1960.0</td>\n",
       "      <td>2530.0</td>\n",
       "      <td>2640.0</td>\n",
       "      <td>...</td>\n",
       "      <td>NaN</td>\n",
       "      <td>NaN</td>\n",
       "      <td>NaN</td>\n",
       "      <td>NaN</td>\n",
       "      <td>NaN</td>\n",
       "      <td>NaN</td>\n",
       "      <td>NaN</td>\n",
       "      <td>NaN</td>\n",
       "      <td>NaN</td>\n",
       "      <td>NaN</td>\n",
       "    </tr>\n",
       "    <tr>\n",
       "      <th>2</th>\n",
       "      <td>M3</td>\n",
       "      <td>2670.0</td>\n",
       "      <td>2590.0</td>\n",
       "      <td>2784.0</td>\n",
       "      <td>2816.0</td>\n",
       "      <td>2888.0</td>\n",
       "      <td>2906.0</td>\n",
       "      <td>2839.0</td>\n",
       "      <td>2860.0</td>\n",
       "      <td>2798.0</td>\n",
       "      <td>...</td>\n",
       "      <td>NaN</td>\n",
       "      <td>NaN</td>\n",
       "      <td>NaN</td>\n",
       "      <td>NaN</td>\n",
       "      <td>NaN</td>\n",
       "      <td>NaN</td>\n",
       "      <td>NaN</td>\n",
       "      <td>NaN</td>\n",
       "      <td>NaN</td>\n",
       "      <td>NaN</td>\n",
       "    </tr>\n",
       "    <tr>\n",
       "      <th>3</th>\n",
       "      <td>M4</td>\n",
       "      <td>7264.0</td>\n",
       "      <td>7215.0</td>\n",
       "      <td>7022.0</td>\n",
       "      <td>7040.0</td>\n",
       "      <td>6966.0</td>\n",
       "      <td>6984.0</td>\n",
       "      <td>7025.0</td>\n",
       "      <td>7082.0</td>\n",
       "      <td>6956.0</td>\n",
       "      <td>...</td>\n",
       "      <td>NaN</td>\n",
       "      <td>NaN</td>\n",
       "      <td>NaN</td>\n",
       "      <td>NaN</td>\n",
       "      <td>NaN</td>\n",
       "      <td>NaN</td>\n",
       "      <td>NaN</td>\n",
       "      <td>NaN</td>\n",
       "      <td>NaN</td>\n",
       "      <td>NaN</td>\n",
       "    </tr>\n",
       "    <tr>\n",
       "      <th>4</th>\n",
       "      <td>M5</td>\n",
       "      <td>4210.0</td>\n",
       "      <td>4290.0</td>\n",
       "      <td>4250.0</td>\n",
       "      <td>4320.0</td>\n",
       "      <td>4320.0</td>\n",
       "      <td>4330.0</td>\n",
       "      <td>4320.0</td>\n",
       "      <td>4260.0</td>\n",
       "      <td>4220.0</td>\n",
       "      <td>...</td>\n",
       "      <td>NaN</td>\n",
       "      <td>NaN</td>\n",
       "      <td>NaN</td>\n",
       "      <td>NaN</td>\n",
       "      <td>NaN</td>\n",
       "      <td>NaN</td>\n",
       "      <td>NaN</td>\n",
       "      <td>NaN</td>\n",
       "      <td>NaN</td>\n",
       "      <td>NaN</td>\n",
       "    </tr>\n",
       "  </tbody>\n",
       "</table>\n",
       "<p>5 rows × 2795 columns</p>\n",
       "</div>"
      ],
      "text/plain": [
       "   V1      V2      V3      V4      V5      V6      V7      V8      V9     V10  \\\n",
       "0  M1  8000.0  8350.0  8570.0  7700.0  7080.0  6520.0  6070.0  6650.0  6830.0   \n",
       "1  M2  2440.0  2490.0  2710.0  2290.0  1960.0  1990.0  1960.0  2530.0  2640.0   \n",
       "2  M3  2670.0  2590.0  2784.0  2816.0  2888.0  2906.0  2839.0  2860.0  2798.0   \n",
       "3  M4  7264.0  7215.0  7022.0  7040.0  6966.0  6984.0  7025.0  7082.0  6956.0   \n",
       "4  M5  4210.0  4290.0  4250.0  4320.0  4320.0  4330.0  4320.0  4260.0  4220.0   \n",
       "\n",
       "   ...  V2786  V2787  V2788  V2789  V2790  V2791  V2792  V2793  V2794  V2795  \n",
       "0  ...    NaN    NaN    NaN    NaN    NaN    NaN    NaN    NaN    NaN    NaN  \n",
       "1  ...    NaN    NaN    NaN    NaN    NaN    NaN    NaN    NaN    NaN    NaN  \n",
       "2  ...    NaN    NaN    NaN    NaN    NaN    NaN    NaN    NaN    NaN    NaN  \n",
       "3  ...    NaN    NaN    NaN    NaN    NaN    NaN    NaN    NaN    NaN    NaN  \n",
       "4  ...    NaN    NaN    NaN    NaN    NaN    NaN    NaN    NaN    NaN    NaN  \n",
       "\n",
       "[5 rows x 2795 columns]"
      ]
     },
     "execution_count": 158,
     "metadata": {},
     "output_type": "execute_result"
    }
   ],
   "source": [
    "md = pd.read_csv(\"/Users/lixiii/computing/machine_learning/time-series/M4-dataset/Monthly-train.csv\")\n",
    "print(md.shape)\n",
    "md.head()"
   ]
  },
  {
   "cell_type": "code",
   "execution_count": 210,
   "metadata": {},
   "outputs": [
    {
     "name": "stdout",
     "output_type": "stream",
     "text": [
      "(48000, 19)\n"
     ]
    }
   ],
   "source": [
    "mt = pd.read_csv(\"/Users/lixiii/computing/machine_learning/time-series/M4-dataset/Monthly-test.csv\") # monthly test data\n",
    "print(mt.shape)"
   ]
  },
  {
   "cell_type": "code",
   "execution_count": 6,
   "metadata": {},
   "outputs": [
    {
     "data": {
      "text/html": [
       "<div>\n",
       "<style scoped>\n",
       "    .dataframe tbody tr th:only-of-type {\n",
       "        vertical-align: middle;\n",
       "    }\n",
       "\n",
       "    .dataframe tbody tr th {\n",
       "        vertical-align: top;\n",
       "    }\n",
       "\n",
       "    .dataframe thead th {\n",
       "        text-align: right;\n",
       "    }\n",
       "</style>\n",
       "<table border=\"1\" class=\"dataframe\">\n",
       "  <thead>\n",
       "    <tr style=\"text-align: right;\">\n",
       "      <th></th>\n",
       "      <th>M4id</th>\n",
       "      <th>category</th>\n",
       "      <th>Frequency</th>\n",
       "      <th>Horizon</th>\n",
       "      <th>SP</th>\n",
       "      <th>StartingDate</th>\n",
       "    </tr>\n",
       "  </thead>\n",
       "  <tbody>\n",
       "    <tr>\n",
       "      <th>0</th>\n",
       "      <td>Y1</td>\n",
       "      <td>Macro</td>\n",
       "      <td>1</td>\n",
       "      <td>6</td>\n",
       "      <td>Yearly</td>\n",
       "      <td>01-01-79 12:00</td>\n",
       "    </tr>\n",
       "    <tr>\n",
       "      <th>1</th>\n",
       "      <td>Y2</td>\n",
       "      <td>Macro</td>\n",
       "      <td>1</td>\n",
       "      <td>6</td>\n",
       "      <td>Yearly</td>\n",
       "      <td>01-01-79 12:00</td>\n",
       "    </tr>\n",
       "    <tr>\n",
       "      <th>2</th>\n",
       "      <td>Y3</td>\n",
       "      <td>Macro</td>\n",
       "      <td>1</td>\n",
       "      <td>6</td>\n",
       "      <td>Yearly</td>\n",
       "      <td>01-01-79 12:00</td>\n",
       "    </tr>\n",
       "    <tr>\n",
       "      <th>3</th>\n",
       "      <td>Y4</td>\n",
       "      <td>Macro</td>\n",
       "      <td>1</td>\n",
       "      <td>6</td>\n",
       "      <td>Yearly</td>\n",
       "      <td>01-01-79 12:00</td>\n",
       "    </tr>\n",
       "    <tr>\n",
       "      <th>4</th>\n",
       "      <td>Y5</td>\n",
       "      <td>Macro</td>\n",
       "      <td>1</td>\n",
       "      <td>6</td>\n",
       "      <td>Yearly</td>\n",
       "      <td>01-01-79 12:00</td>\n",
       "    </tr>\n",
       "    <tr>\n",
       "      <th>...</th>\n",
       "      <td>...</td>\n",
       "      <td>...</td>\n",
       "      <td>...</td>\n",
       "      <td>...</td>\n",
       "      <td>...</td>\n",
       "      <td>...</td>\n",
       "    </tr>\n",
       "    <tr>\n",
       "      <th>99995</th>\n",
       "      <td>H410</td>\n",
       "      <td>Other</td>\n",
       "      <td>24</td>\n",
       "      <td>48</td>\n",
       "      <td>Hourly</td>\n",
       "      <td>01-01-17 12:00</td>\n",
       "    </tr>\n",
       "    <tr>\n",
       "      <th>99996</th>\n",
       "      <td>H411</td>\n",
       "      <td>Other</td>\n",
       "      <td>24</td>\n",
       "      <td>48</td>\n",
       "      <td>Hourly</td>\n",
       "      <td>01-01-17 12:00</td>\n",
       "    </tr>\n",
       "    <tr>\n",
       "      <th>99997</th>\n",
       "      <td>H412</td>\n",
       "      <td>Other</td>\n",
       "      <td>24</td>\n",
       "      <td>48</td>\n",
       "      <td>Hourly</td>\n",
       "      <td>01-01-17 12:00</td>\n",
       "    </tr>\n",
       "    <tr>\n",
       "      <th>99998</th>\n",
       "      <td>H413</td>\n",
       "      <td>Other</td>\n",
       "      <td>24</td>\n",
       "      <td>48</td>\n",
       "      <td>Hourly</td>\n",
       "      <td>12-06-17 12:00</td>\n",
       "    </tr>\n",
       "    <tr>\n",
       "      <th>99999</th>\n",
       "      <td>H414</td>\n",
       "      <td>Other</td>\n",
       "      <td>24</td>\n",
       "      <td>48</td>\n",
       "      <td>Hourly</td>\n",
       "      <td>27-04-17 12:00</td>\n",
       "    </tr>\n",
       "  </tbody>\n",
       "</table>\n",
       "<p>100000 rows × 6 columns</p>\n",
       "</div>"
      ],
      "text/plain": [
       "       M4id category  Frequency  Horizon      SP    StartingDate\n",
       "0        Y1    Macro          1        6  Yearly  01-01-79 12:00\n",
       "1        Y2    Macro          1        6  Yearly  01-01-79 12:00\n",
       "2        Y3    Macro          1        6  Yearly  01-01-79 12:00\n",
       "3        Y4    Macro          1        6  Yearly  01-01-79 12:00\n",
       "4        Y5    Macro          1        6  Yearly  01-01-79 12:00\n",
       "...     ...      ...        ...      ...     ...             ...\n",
       "99995  H410    Other         24       48  Hourly  01-01-17 12:00\n",
       "99996  H411    Other         24       48  Hourly  01-01-17 12:00\n",
       "99997  H412    Other         24       48  Hourly  01-01-17 12:00\n",
       "99998  H413    Other         24       48  Hourly  12-06-17 12:00\n",
       "99999  H414    Other         24       48  Hourly  27-04-17 12:00\n",
       "\n",
       "[100000 rows x 6 columns]"
      ]
     },
     "execution_count": 6,
     "metadata": {},
     "output_type": "execute_result"
    }
   ],
   "source": [
    "info = pd.read_csv(\"/Users/lixiii/computing/machine_learning/time-series/M4-dataset/m4_info.csv\")\n",
    "info"
   ]
  },
  {
   "cell_type": "code",
   "execution_count": 87,
   "metadata": {},
   "outputs": [
    {
     "data": {
      "text/html": [
       "<div>\n",
       "<style scoped>\n",
       "    .dataframe tbody tr th:only-of-type {\n",
       "        vertical-align: middle;\n",
       "    }\n",
       "\n",
       "    .dataframe tbody tr th {\n",
       "        vertical-align: top;\n",
       "    }\n",
       "\n",
       "    .dataframe thead th {\n",
       "        text-align: right;\n",
       "    }\n",
       "</style>\n",
       "<table border=\"1\" class=\"dataframe\">\n",
       "  <thead>\n",
       "    <tr style=\"text-align: right;\">\n",
       "      <th></th>\n",
       "      <th>M4id</th>\n",
       "      <th>category</th>\n",
       "      <th>Frequency</th>\n",
       "      <th>Horizon</th>\n",
       "      <th>SP</th>\n",
       "      <th>StartingDate</th>\n",
       "    </tr>\n",
       "  </thead>\n",
       "  <tbody>\n",
       "    <tr>\n",
       "      <th>47031</th>\n",
       "      <td>M32</td>\n",
       "      <td>Macro</td>\n",
       "      <td>12</td>\n",
       "      <td>18</td>\n",
       "      <td>Monthly</td>\n",
       "      <td>01-01-85 12:00</td>\n",
       "    </tr>\n",
       "  </tbody>\n",
       "</table>\n",
       "</div>"
      ],
      "text/plain": [
       "      M4id category  Frequency  Horizon       SP    StartingDate\n",
       "47031  M32    Macro         12       18  Monthly  01-01-85 12:00"
      ]
     },
     "execution_count": 87,
     "metadata": {},
     "output_type": "execute_result"
    }
   ],
   "source": [
    "info[info[\"M4id\"]==\"M32\"]"
   ]
  },
  {
   "cell_type": "code",
   "execution_count": 8,
   "metadata": {},
   "outputs": [
    {
     "data": {
      "text/html": [
       "<div>\n",
       "<style scoped>\n",
       "    .dataframe tbody tr th:only-of-type {\n",
       "        vertical-align: middle;\n",
       "    }\n",
       "\n",
       "    .dataframe tbody tr th {\n",
       "        vertical-align: top;\n",
       "    }\n",
       "\n",
       "    .dataframe thead th {\n",
       "        text-align: right;\n",
       "    }\n",
       "</style>\n",
       "<table border=\"1\" class=\"dataframe\">\n",
       "  <thead>\n",
       "    <tr style=\"text-align: right;\">\n",
       "      <th></th>\n",
       "      <th>Frequency</th>\n",
       "      <th>Horizon</th>\n",
       "    </tr>\n",
       "  </thead>\n",
       "  <tbody>\n",
       "    <tr>\n",
       "      <th>count</th>\n",
       "      <td>100000.000000</td>\n",
       "      <td>100000.000000</td>\n",
       "    </tr>\n",
       "    <tr>\n",
       "      <th>mean</th>\n",
       "      <td>7.095220</td>\n",
       "      <td>12.777170</td>\n",
       "    </tr>\n",
       "    <tr>\n",
       "      <th>std</th>\n",
       "      <td>5.027783</td>\n",
       "      <td>5.859561</td>\n",
       "    </tr>\n",
       "    <tr>\n",
       "      <th>min</th>\n",
       "      <td>1.000000</td>\n",
       "      <td>6.000000</td>\n",
       "    </tr>\n",
       "    <tr>\n",
       "      <th>25%</th>\n",
       "      <td>1.000000</td>\n",
       "      <td>8.000000</td>\n",
       "    </tr>\n",
       "    <tr>\n",
       "      <th>50%</th>\n",
       "      <td>4.000000</td>\n",
       "      <td>14.000000</td>\n",
       "    </tr>\n",
       "    <tr>\n",
       "      <th>75%</th>\n",
       "      <td>12.000000</td>\n",
       "      <td>18.000000</td>\n",
       "    </tr>\n",
       "    <tr>\n",
       "      <th>max</th>\n",
       "      <td>24.000000</td>\n",
       "      <td>48.000000</td>\n",
       "    </tr>\n",
       "  </tbody>\n",
       "</table>\n",
       "</div>"
      ],
      "text/plain": [
       "           Frequency        Horizon\n",
       "count  100000.000000  100000.000000\n",
       "mean        7.095220      12.777170\n",
       "std         5.027783       5.859561\n",
       "min         1.000000       6.000000\n",
       "25%         1.000000       8.000000\n",
       "50%         4.000000      14.000000\n",
       "75%        12.000000      18.000000\n",
       "max        24.000000      48.000000"
      ]
     },
     "execution_count": 8,
     "metadata": {},
     "output_type": "execute_result"
    }
   ],
   "source": [
    "info.describe()"
   ]
  },
  {
   "cell_type": "code",
   "execution_count": 9,
   "metadata": {},
   "outputs": [
    {
     "data": {
      "text/html": [
       "<div>\n",
       "<style scoped>\n",
       "    .dataframe tbody tr th:only-of-type {\n",
       "        vertical-align: middle;\n",
       "    }\n",
       "\n",
       "    .dataframe tbody tr th {\n",
       "        vertical-align: top;\n",
       "    }\n",
       "\n",
       "    .dataframe thead th {\n",
       "        text-align: right;\n",
       "    }\n",
       "</style>\n",
       "<table border=\"1\" class=\"dataframe\">\n",
       "  <thead>\n",
       "    <tr style=\"text-align: right;\">\n",
       "      <th></th>\n",
       "      <th>V2</th>\n",
       "      <th>V3</th>\n",
       "      <th>V4</th>\n",
       "      <th>V5</th>\n",
       "      <th>V6</th>\n",
       "      <th>V7</th>\n",
       "      <th>V8</th>\n",
       "      <th>V9</th>\n",
       "      <th>V10</th>\n",
       "      <th>V11</th>\n",
       "      <th>V12</th>\n",
       "      <th>V13</th>\n",
       "      <th>V14</th>\n",
       "      <th>V15</th>\n",
       "      <th>V16</th>\n",
       "      <th>V17</th>\n",
       "      <th>V18</th>\n",
       "      <th>V19</th>\n",
       "    </tr>\n",
       "  </thead>\n",
       "  <tbody>\n",
       "    <tr>\n",
       "      <th>count</th>\n",
       "      <td>48000.000000</td>\n",
       "      <td>48000.000000</td>\n",
       "      <td>48000.000000</td>\n",
       "      <td>48000.000000</td>\n",
       "      <td>48000.000000</td>\n",
       "      <td>48000.000000</td>\n",
       "      <td>48000.000000</td>\n",
       "      <td>48000.000000</td>\n",
       "      <td>48000.000000</td>\n",
       "      <td>48000.000000</td>\n",
       "      <td>48000.000000</td>\n",
       "      <td>48000.000000</td>\n",
       "      <td>48000.000000</td>\n",
       "      <td>48000.000000</td>\n",
       "      <td>48000.000000</td>\n",
       "      <td>48000.000000</td>\n",
       "      <td>48000.000000</td>\n",
       "      <td>48000.000000</td>\n",
       "    </tr>\n",
       "    <tr>\n",
       "      <th>mean</th>\n",
       "      <td>4842.593755</td>\n",
       "      <td>4778.890534</td>\n",
       "      <td>4754.743038</td>\n",
       "      <td>4754.426734</td>\n",
       "      <td>4765.571649</td>\n",
       "      <td>4797.912534</td>\n",
       "      <td>4729.037767</td>\n",
       "      <td>4743.689092</td>\n",
       "      <td>4804.988719</td>\n",
       "      <td>4824.314239</td>\n",
       "      <td>4859.188194</td>\n",
       "      <td>4894.751383</td>\n",
       "      <td>4887.089595</td>\n",
       "      <td>4843.166640</td>\n",
       "      <td>4827.380727</td>\n",
       "      <td>4797.946644</td>\n",
       "      <td>4869.120566</td>\n",
       "      <td>4832.631861</td>\n",
       "    </tr>\n",
       "    <tr>\n",
       "      <th>std</th>\n",
       "      <td>3818.918539</td>\n",
       "      <td>3803.274104</td>\n",
       "      <td>3818.283386</td>\n",
       "      <td>3862.261911</td>\n",
       "      <td>3858.656729</td>\n",
       "      <td>3990.959931</td>\n",
       "      <td>3865.840084</td>\n",
       "      <td>3876.647122</td>\n",
       "      <td>4020.178330</td>\n",
       "      <td>3967.897294</td>\n",
       "      <td>4029.513436</td>\n",
       "      <td>4133.095147</td>\n",
       "      <td>4056.904301</td>\n",
       "      <td>4099.576644</td>\n",
       "      <td>4096.783617</td>\n",
       "      <td>4100.150213</td>\n",
       "      <td>4176.802415</td>\n",
       "      <td>4203.798094</td>\n",
       "    </tr>\n",
       "    <tr>\n",
       "      <th>min</th>\n",
       "      <td>98.000000</td>\n",
       "      <td>63.657000</td>\n",
       "      <td>62.100000</td>\n",
       "      <td>33.070700</td>\n",
       "      <td>60.990000</td>\n",
       "      <td>48.079400</td>\n",
       "      <td>30.293860</td>\n",
       "      <td>30.956870</td>\n",
       "      <td>25.735169</td>\n",
       "      <td>28.987370</td>\n",
       "      <td>36.040000</td>\n",
       "      <td>20.653000</td>\n",
       "      <td>80.000000</td>\n",
       "      <td>61.900000</td>\n",
       "      <td>56.100000</td>\n",
       "      <td>45.800000</td>\n",
       "      <td>30.700000</td>\n",
       "      <td>24.500000</td>\n",
       "    </tr>\n",
       "    <tr>\n",
       "      <th>25%</th>\n",
       "      <td>1877.352500</td>\n",
       "      <td>1840.000000</td>\n",
       "      <td>1810.000000</td>\n",
       "      <td>1800.000000</td>\n",
       "      <td>1800.000000</td>\n",
       "      <td>1801.675000</td>\n",
       "      <td>1780.000000</td>\n",
       "      <td>1785.570328</td>\n",
       "      <td>1800.000000</td>\n",
       "      <td>1809.817500</td>\n",
       "      <td>1835.817500</td>\n",
       "      <td>1846.070000</td>\n",
       "      <td>1844.151000</td>\n",
       "      <td>1806.000000</td>\n",
       "      <td>1791.708641</td>\n",
       "      <td>1769.236250</td>\n",
       "      <td>1790.875000</td>\n",
       "      <td>1759.015000</td>\n",
       "    </tr>\n",
       "    <tr>\n",
       "      <th>50%</th>\n",
       "      <td>3691.701050</td>\n",
       "      <td>3600.794500</td>\n",
       "      <td>3580.000000</td>\n",
       "      <td>3536.325080</td>\n",
       "      <td>3550.000000</td>\n",
       "      <td>3555.623000</td>\n",
       "      <td>3510.000000</td>\n",
       "      <td>3520.000000</td>\n",
       "      <td>3568.066090</td>\n",
       "      <td>3590.000000</td>\n",
       "      <td>3610.000000</td>\n",
       "      <td>3640.000000</td>\n",
       "      <td>3609.000000</td>\n",
       "      <td>3550.000000</td>\n",
       "      <td>3508.432000</td>\n",
       "      <td>3490.000000</td>\n",
       "      <td>3523.723000</td>\n",
       "      <td>3470.000000</td>\n",
       "    </tr>\n",
       "    <tr>\n",
       "      <th>75%</th>\n",
       "      <td>6945.296295</td>\n",
       "      <td>6855.000000</td>\n",
       "      <td>6800.000000</td>\n",
       "      <td>6822.136173</td>\n",
       "      <td>6869.018900</td>\n",
       "      <td>6900.000000</td>\n",
       "      <td>6800.000000</td>\n",
       "      <td>6802.725500</td>\n",
       "      <td>6871.154000</td>\n",
       "      <td>6900.000000</td>\n",
       "      <td>6920.000000</td>\n",
       "      <td>6994.711165</td>\n",
       "      <td>6978.311250</td>\n",
       "      <td>6910.000000</td>\n",
       "      <td>6900.000000</td>\n",
       "      <td>6850.207500</td>\n",
       "      <td>6987.072500</td>\n",
       "      <td>6900.000000</td>\n",
       "    </tr>\n",
       "    <tr>\n",
       "      <th>max</th>\n",
       "      <td>53409.000000</td>\n",
       "      <td>82500.000000</td>\n",
       "      <td>52602.000000</td>\n",
       "      <td>60278.300000</td>\n",
       "      <td>58900.000000</td>\n",
       "      <td>171562.400000</td>\n",
       "      <td>55161.000000</td>\n",
       "      <td>53767.000000</td>\n",
       "      <td>150000.000000</td>\n",
       "      <td>65704.000000</td>\n",
       "      <td>87200.000000</td>\n",
       "      <td>177950.000000</td>\n",
       "      <td>75000.000000</td>\n",
       "      <td>87200.000000</td>\n",
       "      <td>76421.000000</td>\n",
       "      <td>100100.000000</td>\n",
       "      <td>75406.000000</td>\n",
       "      <td>76653.000000</td>\n",
       "    </tr>\n",
       "  </tbody>\n",
       "</table>\n",
       "</div>"
      ],
      "text/plain": [
       "                 V2            V3            V4            V5            V6  \\\n",
       "count  48000.000000  48000.000000  48000.000000  48000.000000  48000.000000   \n",
       "mean    4842.593755   4778.890534   4754.743038   4754.426734   4765.571649   \n",
       "std     3818.918539   3803.274104   3818.283386   3862.261911   3858.656729   \n",
       "min       98.000000     63.657000     62.100000     33.070700     60.990000   \n",
       "25%     1877.352500   1840.000000   1810.000000   1800.000000   1800.000000   \n",
       "50%     3691.701050   3600.794500   3580.000000   3536.325080   3550.000000   \n",
       "75%     6945.296295   6855.000000   6800.000000   6822.136173   6869.018900   \n",
       "max    53409.000000  82500.000000  52602.000000  60278.300000  58900.000000   \n",
       "\n",
       "                  V7            V8            V9            V10           V11  \\\n",
       "count   48000.000000  48000.000000  48000.000000   48000.000000  48000.000000   \n",
       "mean     4797.912534   4729.037767   4743.689092    4804.988719   4824.314239   \n",
       "std      3990.959931   3865.840084   3876.647122    4020.178330   3967.897294   \n",
       "min        48.079400     30.293860     30.956870      25.735169     28.987370   \n",
       "25%      1801.675000   1780.000000   1785.570328    1800.000000   1809.817500   \n",
       "50%      3555.623000   3510.000000   3520.000000    3568.066090   3590.000000   \n",
       "75%      6900.000000   6800.000000   6802.725500    6871.154000   6900.000000   \n",
       "max    171562.400000  55161.000000  53767.000000  150000.000000  65704.000000   \n",
       "\n",
       "                V12            V13           V14           V15           V16  \\\n",
       "count  48000.000000   48000.000000  48000.000000  48000.000000  48000.000000   \n",
       "mean    4859.188194    4894.751383   4887.089595   4843.166640   4827.380727   \n",
       "std     4029.513436    4133.095147   4056.904301   4099.576644   4096.783617   \n",
       "min       36.040000      20.653000     80.000000     61.900000     56.100000   \n",
       "25%     1835.817500    1846.070000   1844.151000   1806.000000   1791.708641   \n",
       "50%     3610.000000    3640.000000   3609.000000   3550.000000   3508.432000   \n",
       "75%     6920.000000    6994.711165   6978.311250   6910.000000   6900.000000   \n",
       "max    87200.000000  177950.000000  75000.000000  87200.000000  76421.000000   \n",
       "\n",
       "                 V17           V18           V19  \n",
       "count   48000.000000  48000.000000  48000.000000  \n",
       "mean     4797.946644   4869.120566   4832.631861  \n",
       "std      4100.150213   4176.802415   4203.798094  \n",
       "min        45.800000     30.700000     24.500000  \n",
       "25%      1769.236250   1790.875000   1759.015000  \n",
       "50%      3490.000000   3523.723000   3470.000000  \n",
       "75%      6850.207500   6987.072500   6900.000000  \n",
       "max    100100.000000  75406.000000  76653.000000  "
      ]
     },
     "execution_count": 9,
     "metadata": {},
     "output_type": "execute_result"
    }
   ],
   "source": [
    "md.describe()"
   ]
  },
  {
   "cell_type": "code",
   "execution_count": 159,
   "metadata": {},
   "outputs": [
    {
     "data": {
      "application/vnd.jupyter.widget-view+json": {
       "model_id": "462e5852879c4c728c3425faff72fb62",
       "version_major": 2,
       "version_minor": 0
      },
      "text/plain": [
       "interactive(children=(IntSlider(value=25, description='id', max=50), Output()), _dom_classes=('widget-interact…"
      ]
     },
     "metadata": {},
     "output_type": "display_data"
    }
   ],
   "source": [
    "@interact(id=(0,50))\n",
    "def vis(id):\n",
    "    md.loc[id][1:].plot()\n",
    "    plt.title(f\"id: {md.loc[id][0]}\")"
   ]
  },
  {
   "cell_type": "markdown",
   "metadata": {},
   "source": [
    "## Pick single series"
   ]
  },
  {
   "cell_type": "code",
   "execution_count": 469,
   "metadata": {},
   "outputs": [
    {
     "name": "stdout",
     "output_type": "stream",
     "text": [
      "M1\n"
     ]
    },
    {
     "data": {
      "text/plain": [
       "[<matplotlib.lines.Line2D at 0x7fa1530e1110>]"
      ]
     },
     "execution_count": 469,
     "metadata": {},
     "output_type": "execute_result"
    },
    {
     "data": {
      "image/png": "[encoded data removed]",
      "text/plain": [
       "<Figure size 432x288 with 1 Axes>"
      ]
     },
     "metadata": {
      "needs_background": "light"
     },
     "output_type": "display_data"
    }
   ],
   "source": [
    "# idx=35\n",
    "idx=0\n",
    "s=md.loc[idx][1:].dropna().to_numpy()\n",
    "M4id = md.loc[idx][0]\n",
    "print(M4id)\n",
    "plt.plot(s)"
   ]
  },
  {
   "cell_type": "code",
   "execution_count": 470,
   "metadata": {},
   "outputs": [
    {
     "data": {
      "image/png": "[encoded data removed]",
      "text/plain": [
       "<Figure size 432x288 with 1 Axes>"
      ]
     },
     "execution_count": 470,
     "metadata": {},
     "output_type": "execute_result"
    },
    {
     "data": {
      "image/png": "[encoded data removed]",
      "text/plain": [
       "<Figure size 432x288 with 1 Axes>"
      ]
     },
     "metadata": {
      "needs_background": "light"
     },
     "output_type": "display_data"
    }
   ],
   "source": [
    "plot_acf(s)"
   ]
  },
  {
   "cell_type": "code",
   "execution_count": 471,
   "metadata": {},
   "outputs": [
    {
     "data": {
      "application/vnd.jupyter.widget-view+json": {
       "model_id": "547bb0ff44c344c8b15305f144be9e2b",
       "version_major": 2,
       "version_minor": 0
      },
      "text/plain": [
       "interactive(children=(IntSlider(value=3, description='lag', max=5, min=1), Output()), _dom_classes=('widget-in…"
      ]
     },
     "metadata": {},
     "output_type": "display_data"
    }
   ],
   "source": [
    "@interact(lag=(1,5))\n",
    "def plot_dif(lag):\n",
    "    diff = []\n",
    "    for i in range(lag, len(s)):\n",
    "        diff.append(s[i] - s[i-lag])\n",
    "    plt.plot(diff)\n",
    "    plt.title(f\"differenced series with lag {lag}\")"
   ]
  },
  {
   "cell_type": "markdown",
   "metadata": {},
   "source": [
    "## Simple ES Model"
   ]
  },
  {
   "cell_type": "code",
   "execution_count": 472,
   "metadata": {},
   "outputs": [],
   "source": [
    "from statsmodels.tsa.holtwinters import ExponentialSmoothing"
   ]
  },
  {
   "cell_type": "code",
   "execution_count": 473,
   "metadata": {},
   "outputs": [
    {
     "data": {
      "text/plain": [
       "[<matplotlib.lines.Line2D at 0x7fa13e7cf7d0>]"
      ]
     },
     "execution_count": 473,
     "metadata": {},
     "output_type": "execute_result"
    },
    {
     "data": {
      "image/png": "[encoded data removed]",
      "text/plain": [
       "<Figure size 432x288 with 1 Axes>"
      ]
     },
     "metadata": {
      "needs_background": "light"
     },
     "output_type": "display_data"
    }
   ],
   "source": [
    "s = s.astype(float)\n",
    "plt.plot(s)"
   ]
  },
  {
   "cell_type": "code",
   "execution_count": 503,
   "metadata": {},
   "outputs": [],
   "source": [
    "# model = ExponentialSmoothing(s[:-1])\n",
    "# model = ExponentialSmoothing(s[:-1], trend=\"additive\", seasonal=\"additive\", seasonal_periods=12)\n",
    "model = ExponentialSmoothing(s[:-1], trend=\"add\", damped_trend=True, seasonal=\"add\", seasonal_periods=12)\n",
    "model.initialize()"
   ]
  },
  {
   "cell_type": "code",
   "execution_count": 504,
   "metadata": {},
   "outputs": [
    {
     "data": {
      "text/plain": [
       "{'smoothing_level': 0.42928571428571427,\n",
       " 'smoothing_trend': 0.0001,\n",
       " 'smoothing_seasonal': 0.2445918367346939,\n",
       " 'damping_trend': 0.99,\n",
       " 'initial_level': 6829.999999999996,\n",
       " 'initial_trend': -13.295454545454078,\n",
       " 'initial_seasons': array([  838.03819444,   893.35069444,  1323.03819444,   809.07986111,\n",
       "          450.01736111,  -189.67013889,  -543.21180556,    -4.25347222,\n",
       "         -453.10763889,  -798.94097222, -1323.42013889, -1000.92013889]),\n",
       " 'use_boxcox': False,\n",
       " 'lamda': None,\n",
       " 'remove_bias': False}"
      ]
     },
     "execution_count": 504,
     "metadata": {},
     "output_type": "execute_result"
    }
   ],
   "source": [
    "fmodel = model.fit()\n",
    "fmodel.params"
   ]
  },
  {
   "cell_type": "code",
   "execution_count": 505,
   "metadata": {},
   "outputs": [
    {
     "name": "stdout",
     "output_type": "stream",
     "text": [
      "(469,)\n"
     ]
    },
    {
     "data": {
      "image/png": "[encoded data removed]",
      "text/plain": [
       "<Figure size 432x288 with 1 Axes>"
      ]
     },
     "metadata": {
      "needs_background": "light"
     },
     "output_type": "display_data"
    }
   ],
   "source": [
    "# %matplotlib\n",
    "p = model.predict(model.params)\n",
    "plt.plot(s, label=\"original\")\n",
    "p_1step = np.concatenate([s[:-1],p])\n",
    "plt.plot(p_1step, label=\"Original + 1 step prediction\")\n",
    "p_complete = model.predict(model.params,0,len(s)-1)\n",
    "plt.plot(p_complete, label=\"Complete prediction\")\n",
    "plt.legend()\n",
    "\n",
    "print(p_complete.shape)\n"
   ]
  },
  {
   "cell_type": "code",
   "execution_count": 362,
   "metadata": {},
   "outputs": [],
   "source": [
    "%matplotlib inline"
   ]
  },
  {
   "cell_type": "code",
   "execution_count": null,
   "metadata": {},
   "outputs": [],
   "source": []
  },
  {
   "cell_type": "markdown",
   "metadata": {},
   "source": [
    "## GBM Regressor\n",
    "\n",
    "Clearly does **not** work for univariate time series"
   ]
  },
  {
   "cell_type": "code",
   "execution_count": 375,
   "metadata": {},
   "outputs": [],
   "source": [
    "from sklearn.ensemble import GradientBoostingRegressor"
   ]
  },
  {
   "cell_type": "code",
   "execution_count": 376,
   "metadata": {},
   "outputs": [],
   "source": [
    "model2 = GradientBoostingRegressor()"
   ]
  },
  {
   "cell_type": "code",
   "execution_count": 381,
   "metadata": {},
   "outputs": [],
   "source": [
    "X = np.arange(len(s)).reshape(-1,1)"
   ]
  },
  {
   "cell_type": "code",
   "execution_count": 386,
   "metadata": {},
   "outputs": [
    {
     "data": {
      "text/plain": [
       "GradientBoostingRegressor()"
      ]
     },
     "execution_count": 386,
     "metadata": {},
     "output_type": "execute_result"
    }
   ],
   "source": [
    "model2.fit(X,s)"
   ]
  },
  {
   "cell_type": "code",
   "execution_count": 388,
   "metadata": {
    "collapsed": true
   },
   "outputs": [
    {
     "data": {
      "text/plain": [
       "[<matplotlib.lines.Line2D at 0x7fa16a451ed0>]"
      ]
     },
     "execution_count": 388,
     "metadata": {},
     "output_type": "execute_result"
    },
    {
     "data": {
      "image/png": "[encoded data removed]",
      "text/plain": [
       "<Figure size 432x288 with 1 Axes>"
      ]
     },
     "metadata": {
      "needs_background": "light"
     },
     "output_type": "display_data"
    }
   ],
   "source": [
    "plt.plot(model2.predict(X))\n",
    "plt.plot(s)"
   ]
  },
  {
   "cell_type": "code",
   "execution_count": 396,
   "metadata": {
    "collapsed": true
   },
   "outputs": [
    {
     "data": {
      "text/plain": [
       "array([3817.86753463, 3817.86753463, 3817.86753463, 3817.86753463,\n",
       "       3817.86753463, 3817.86753463, 3817.86753463, 3817.86753463,\n",
       "       3817.86753463, 3817.86753463, 3817.86753463, 3817.86753463,\n",
       "       3817.86753463, 3817.86753463, 3817.86753463, 3817.86753463,\n",
       "       3817.86753463])"
      ]
     },
     "execution_count": 396,
     "metadata": {},
     "output_type": "execute_result"
    }
   ],
   "source": [
    "model2.predict(np.arange(len(s),len(s)+h-1).reshape(-1,1))"
   ]
  },
  {
   "cell_type": "markdown",
   "metadata": {},
   "source": [
    "## Evaluation"
   ]
  },
  {
   "cell_type": "code",
   "execution_count": 497,
   "metadata": {},
   "outputs": [],
   "source": [
    "def sMAPE(y, predicted): # returns number in percentage\n",
    "    assert len(y) == len(predicted)\n",
    "    r = 0\n",
    "    for i in range(len(y)):\n",
    "        r += 100*abs(y[i]-predicted[i])/(abs(y[i]) + abs(predicted[i]))\n",
    "    return r*2/len(y)"
   ]
  },
  {
   "cell_type": "code",
   "execution_count": 498,
   "metadata": {},
   "outputs": [],
   "source": [
    "h = int(info[info[\"M4id\"]==M4id][\"Horizon\"])"
   ]
  },
  {
   "cell_type": "code",
   "execution_count": 499,
   "metadata": {},
   "outputs": [
    {
     "data": {
      "text/html": [
       "<div>\n",
       "<style scoped>\n",
       "    .dataframe tbody tr th:only-of-type {\n",
       "        vertical-align: middle;\n",
       "    }\n",
       "\n",
       "    .dataframe tbody tr th {\n",
       "        vertical-align: top;\n",
       "    }\n",
       "\n",
       "    .dataframe thead th {\n",
       "        text-align: right;\n",
       "    }\n",
       "</style>\n",
       "<table border=\"1\" class=\"dataframe\">\n",
       "  <thead>\n",
       "    <tr style=\"text-align: right;\">\n",
       "      <th></th>\n",
       "      <th>V1</th>\n",
       "      <th>V2</th>\n",
       "      <th>V3</th>\n",
       "      <th>V4</th>\n",
       "      <th>V5</th>\n",
       "      <th>V6</th>\n",
       "      <th>V7</th>\n",
       "      <th>V8</th>\n",
       "      <th>V9</th>\n",
       "      <th>V10</th>\n",
       "      <th>V11</th>\n",
       "      <th>V12</th>\n",
       "      <th>V13</th>\n",
       "      <th>V14</th>\n",
       "      <th>V15</th>\n",
       "      <th>V16</th>\n",
       "      <th>V17</th>\n",
       "      <th>V18</th>\n",
       "      <th>V19</th>\n",
       "    </tr>\n",
       "  </thead>\n",
       "  <tbody>\n",
       "    <tr>\n",
       "      <th>0</th>\n",
       "      <td>M1</td>\n",
       "      <td>8720.0</td>\n",
       "      <td>7790.0</td>\n",
       "      <td>4770.0</td>\n",
       "      <td>5060.0</td>\n",
       "      <td>4720.0</td>\n",
       "      <td>4450.0</td>\n",
       "      <td>5120.0</td>\n",
       "      <td>5960.0</td>\n",
       "      <td>6560.0</td>\n",
       "      <td>4900.0</td>\n",
       "      <td>4520.0</td>\n",
       "      <td>7370.0</td>\n",
       "      <td>9050.0</td>\n",
       "      <td>7780.0</td>\n",
       "      <td>5380.0</td>\n",
       "      <td>4700.0</td>\n",
       "      <td>4490.0</td>\n",
       "      <td>4010.0</td>\n",
       "    </tr>\n",
       "  </tbody>\n",
       "</table>\n",
       "</div>"
      ],
      "text/plain": [
       "   V1      V2      V3      V4      V5      V6      V7      V8      V9     V10  \\\n",
       "0  M1  8720.0  7790.0  4770.0  5060.0  4720.0  4450.0  5120.0  5960.0  6560.0   \n",
       "\n",
       "      V11     V12     V13     V14     V15     V16     V17     V18     V19  \n",
       "0  4900.0  4520.0  7370.0  9050.0  7780.0  5380.0  4700.0  4490.0  4010.0  "
      ]
     },
     "execution_count": 499,
     "metadata": {},
     "output_type": "execute_result"
    }
   ],
   "source": [
    "st = mt[mt[\"V1\"]==M4id]\n",
    "st"
   ]
  },
  {
   "cell_type": "code",
   "execution_count": 506,
   "metadata": {},
   "outputs": [
    {
     "data": {
      "text/plain": [
       "array([8720., 7790., 4770., 5060., 4720., 4450., 5120., 5960., 6560.,\n",
       "       4900., 4520., 7370., 9050., 7780., 5380., 4700., 4490., 4010.])"
      ]
     },
     "execution_count": 506,
     "metadata": {},
     "output_type": "execute_result"
    }
   ],
   "source": [
    "y_test = st.to_numpy().flatten()[1:].astype(float)\n",
    "y_test"
   ]
  },
  {
   "cell_type": "code",
   "execution_count": 507,
   "metadata": {},
   "outputs": [
    {
     "data": {
      "text/plain": [
       "19.32837874220818"
      ]
     },
     "execution_count": 507,
     "metadata": {},
     "output_type": "execute_result"
    }
   ],
   "source": [
    "p=model.predict(model.params,len(s)-1, len(s)-1+h-1)\n",
    "sMAPE(y_test, p)"
   ]
  },
  {
   "cell_type": "code",
   "execution_count": 508,
   "metadata": {},
   "outputs": [
    {
     "data": {
      "text/plain": [
       "<matplotlib.legend.Legend at 0x7fa12bb62cd0>"
      ]
     },
     "execution_count": 508,
     "metadata": {},
     "output_type": "execute_result"
    },
    {
     "data": {
      "image/png": "[encoded data removed]",
      "text/plain": [
       "<Figure size 432x288 with 1 Axes>"
      ]
     },
     "metadata": {
      "needs_background": "light"
     },
     "output_type": "display_data"
    }
   ],
   "source": [
    "plt.plot(y_test,label=\"data\")\n",
    "plt.plot(p,label=\"predicted\")\n",
    "plt.legend()"
   ]
  },
  {
   "cell_type": "markdown",
   "metadata": {},
   "source": [
    "### Comparison with Simple benchmarks"
   ]
  },
  {
   "cell_type": "code",
   "execution_count": 509,
   "metadata": {},
   "outputs": [],
   "source": [
    "naive1 = [s[-1]]*h\n",
    "naive2 = [s[len(s) - 12 + (i%12)] for i in range(1,h+1)]"
   ]
  },
  {
   "cell_type": "code",
   "execution_count": 510,
   "metadata": {},
   "outputs": [
    {
     "data": {
      "text/plain": [
       "<matplotlib.legend.Legend at 0x7fa12be0be90>"
      ]
     },
     "execution_count": 510,
     "metadata": {},
     "output_type": "execute_result"
    },
    {
     "data": {
      "image/png": "[encoded data removed]",
      "text/plain": [
       "<Figure size 432x288 with 1 Axes>"
      ]
     },
     "metadata": {
      "needs_background": "light"
     },
     "output_type": "display_data"
    }
   ],
   "source": [
    "plt.plot(y_test,label=\"test data\")\n",
    "plt.plot(naive1,label=\"naive 1\")\n",
    "plt.plot(naive2,label=\"naive 2\")\n",
    "plt.plot(p,label=\"predicted\")\n",
    "plt.legend()"
   ]
  },
  {
   "cell_type": "code",
   "execution_count": 511,
   "metadata": {},
   "outputs": [
    {
     "name": "stdout",
     "output_type": "stream",
     "text": [
      "sMAPE for naive1: 28.370349118011386\n",
      "sMAPE for naive2: 20.033697460285254\n",
      "sMAPE for model: 19.32837874220818\n"
     ]
    }
   ],
   "source": [
    "print(f\"sMAPE for naive1: {sMAPE(y_test,naive1)}\")\n",
    "print(f\"sMAPE for naive2: {sMAPE(y_test,naive2)}\")\n",
    "print(f\"sMAPE for model: {sMAPE(y_test,p)}\")"
   ]
  },
  {
   "cell_type": "markdown",
   "metadata": {},
   "source": [
    "# Automation"
   ]
  },
  {
   "cell_type": "code",
   "execution_count": 426,
   "metadata": {},
   "outputs": [],
   "source": [
    "def sMAPE(y, predicted): # returns number in percentage\n",
    "    assert len(y) == len(predicted)\n",
    "    r = 0\n",
    "    for i in range(len(y)):\n",
    "        r += 100*abs(y[i]-predicted[i])/(abs(y[i]) + abs(predicted[i]))\n",
    "    return r*2/len(y)"
   ]
  },
  {
   "cell_type": "code",
   "execution_count": 466,
   "metadata": {},
   "outputs": [],
   "source": [
    "from abc import ABC, abstractmethod\n",
    "class UnifiedModel(ABC):\n",
    "    def __init__(self):\n",
    "        pass \n",
    "    \n",
    "    @abstractmethod\n",
    "    def fit(self,y):\n",
    "        pass \n",
    "    \n",
    "    @abstractmethod\n",
    "    def predict_horizon(self,h:int):\n",
    "        pass\n",
    "    \n",
    "    def evaluate(self, y, horizon:int):\n",
    "        return sMAPE(y, self.predict_horizon(horizon))\n",
    "    \n",
    "\n",
    "class Naive1(UnifiedModel):\n",
    "    def fit(self, y):\n",
    "        self.value = y[-1]\n",
    "        \n",
    "    def predict_horizon(self, h):\n",
    "        return np.array( [self.value]*h )\n",
    "        \n",
    "\n",
    "class Naive2(UnifiedModel):\n",
    "    '''Seasonal naive (default for monthly data)'''\n",
    "    def fit(self, y, seasonal_periods:int=12):\n",
    "        self.seasonal_periods = seasonal_periods\n",
    "        self.values = y[-seasonal_periods:]\n",
    "        \n",
    "    def predict_horizon(self, h):\n",
    "        s = self.values\n",
    "        p = self.seasonal_periods\n",
    "        return [s[len(s) - p + (i%p)] for i in range(1,h+1)]\n",
    "    \n",
    "class ES(UnifiedModel):\n",
    "    \"\"\"Exponential Smoothing\"\"\"\n",
    "    def fit(self, y):\n",
    "        self.prediction_start_idx = len(y)-1\n",
    "        self.model = ExponentialSmoothing(y, trend=\"add\", damped_trend=False, seasonal=\"add\", seasonal_periods=12)\n",
    "        self.model.fit()\n",
    "    \n",
    "    def predict_horizon(self,h):\n",
    "        return self.model.predict(self.model.params, self.prediction_start_idx, self.prediction_start_idx+h-1)"
   ]
  },
  {
   "cell_type": "code",
   "execution_count": 447,
   "metadata": {},
   "outputs": [],
   "source": [
    "# required global vars: \n",
    "# md: m4 training data\n",
    "# mt: m4 test data \n",
    "# info: m4 dataset info df\n",
    "def evaluate_model(Model, series_id):\n",
    "    M4id = md.loc[series_id][0]\n",
    "    horizon = int(info[info[\"M4id\"]==M4id][\"Horizon\"])\n",
    "    y_train=md.loc[series_id][1:].dropna().to_numpy().astype(float)\n",
    "    y_test = mt[mt[\"V1\"]==M4id].to_numpy().flatten()[1:].astype(float)\n",
    "    m = Model()\n",
    "    m.fit(y_train)\n",
    "    \n",
    "    return m.evaluate(y_test,horizon)"
   ]
  },
  {
   "cell_type": "code",
   "execution_count": 451,
   "metadata": {},
   "outputs": [
    {
     "data": {
      "text/plain": [
       "10.47419885754074"
      ]
     },
     "execution_count": 451,
     "metadata": {},
     "output_type": "execute_result"
    }
   ],
   "source": [
    "evaluate_model(Naive2,35)"
   ]
  },
  {
   "cell_type": "code",
   "execution_count": 459,
   "metadata": {},
   "outputs": [],
   "source": [
    "n1_results = [evaluate_model(Naive1,i) for i in range(100)]\n",
    "n2_results = [evaluate_model(Naive2,i) for i in range(100)]"
   ]
  },
  {
   "cell_type": "code",
   "execution_count": 460,
   "metadata": {},
   "outputs": [
    {
     "data": {
      "text/plain": [
       "11.028481980909834"
      ]
     },
     "execution_count": 460,
     "metadata": {},
     "output_type": "execute_result"
    }
   ],
   "source": [
    "np.average(n1_results)"
   ]
  },
  {
   "cell_type": "code",
   "execution_count": 461,
   "metadata": {},
   "outputs": [
    {
     "data": {
      "text/plain": [
       "10.984019836564663"
      ]
     },
     "execution_count": 461,
     "metadata": {},
     "output_type": "execute_result"
    }
   ],
   "source": [
    "np.average(n2_results)"
   ]
  },
  {
   "cell_type": "code",
   "execution_count": 464,
   "metadata": {
    "scrolled": true
   },
   "outputs": [
    {
     "name": "stderr",
     "output_type": "stream",
     "text": [
      "/Users/lixiii/anaconda3/envs/time/lib/python3.7/site-packages/statsmodels/tsa/holtwinters/model.py:917: ConvergenceWarning: Optimization failed to converge. Check mle_retvals.\n",
      "  ConvergenceWarning,\n",
      "/Users/lixiii/anaconda3/envs/time/lib/python3.7/site-packages/statsmodels/tsa/holtwinters/model.py:917: ConvergenceWarning: Optimization failed to converge. Check mle_retvals.\n",
      "  ConvergenceWarning,\n",
      "/Users/lixiii/anaconda3/envs/time/lib/python3.7/site-packages/statsmodels/tsa/holtwinters/model.py:917: ConvergenceWarning: Optimization failed to converge. Check mle_retvals.\n",
      "  ConvergenceWarning,\n",
      "/Users/lixiii/anaconda3/envs/time/lib/python3.7/site-packages/statsmodels/tsa/holtwinters/model.py:917: ConvergenceWarning: Optimization failed to converge. Check mle_retvals.\n",
      "  ConvergenceWarning,\n",
      "/Users/lixiii/anaconda3/envs/time/lib/python3.7/site-packages/statsmodels/tsa/holtwinters/model.py:917: ConvergenceWarning: Optimization failed to converge. Check mle_retvals.\n",
      "  ConvergenceWarning,\n",
      "/Users/lixiii/anaconda3/envs/time/lib/python3.7/site-packages/statsmodels/tsa/holtwinters/model.py:917: ConvergenceWarning: Optimization failed to converge. Check mle_retvals.\n",
      "  ConvergenceWarning,\n",
      "/Users/lixiii/anaconda3/envs/time/lib/python3.7/site-packages/statsmodels/tsa/holtwinters/model.py:917: ConvergenceWarning: Optimization failed to converge. Check mle_retvals.\n",
      "  ConvergenceWarning,\n",
      "/Users/lixiii/anaconda3/envs/time/lib/python3.7/site-packages/statsmodels/tsa/holtwinters/model.py:917: ConvergenceWarning: Optimization failed to converge. Check mle_retvals.\n",
      "  ConvergenceWarning,\n",
      "/Users/lixiii/anaconda3/envs/time/lib/python3.7/site-packages/statsmodels/tsa/holtwinters/model.py:917: ConvergenceWarning: Optimization failed to converge. Check mle_retvals.\n",
      "  ConvergenceWarning,\n",
      "/Users/lixiii/anaconda3/envs/time/lib/python3.7/site-packages/statsmodels/tsa/holtwinters/model.py:917: ConvergenceWarning: Optimization failed to converge. Check mle_retvals.\n",
      "  ConvergenceWarning,\n",
      "/Users/lixiii/anaconda3/envs/time/lib/python3.7/site-packages/statsmodels/tsa/holtwinters/model.py:917: ConvergenceWarning: Optimization failed to converge. Check mle_retvals.\n",
      "  ConvergenceWarning,\n",
      "/Users/lixiii/anaconda3/envs/time/lib/python3.7/site-packages/statsmodels/tsa/holtwinters/model.py:917: ConvergenceWarning: Optimization failed to converge. Check mle_retvals.\n",
      "  ConvergenceWarning,\n",
      "/Users/lixiii/anaconda3/envs/time/lib/python3.7/site-packages/statsmodels/tsa/holtwinters/model.py:917: ConvergenceWarning: Optimization failed to converge. Check mle_retvals.\n",
      "  ConvergenceWarning,\n",
      "/Users/lixiii/anaconda3/envs/time/lib/python3.7/site-packages/statsmodels/tsa/holtwinters/model.py:917: ConvergenceWarning: Optimization failed to converge. Check mle_retvals.\n",
      "  ConvergenceWarning,\n",
      "/Users/lixiii/anaconda3/envs/time/lib/python3.7/site-packages/statsmodels/tsa/holtwinters/model.py:917: ConvergenceWarning: Optimization failed to converge. Check mle_retvals.\n",
      "  ConvergenceWarning,\n",
      "/Users/lixiii/anaconda3/envs/time/lib/python3.7/site-packages/statsmodels/tsa/holtwinters/model.py:917: ConvergenceWarning: Optimization failed to converge. Check mle_retvals.\n",
      "  ConvergenceWarning,\n"
     ]
    }
   ],
   "source": [
    "es_results = [evaluate_model(ES,i) for i in range(100)]"
   ]
  },
  {
   "cell_type": "code",
   "execution_count": 465,
   "metadata": {},
   "outputs": [
    {
     "data": {
      "text/plain": [
       "11.229244526124178"
      ]
     },
     "execution_count": 465,
     "metadata": {},
     "output_type": "execute_result"
    }
   ],
   "source": [
    "np.average(es_results)"
   ]
  },
  {
   "cell_type": "code",
   "execution_count": 468,
   "metadata": {},
   "outputs": [
    {
     "name": "stderr",
     "output_type": "stream",
     "text": [
      "/Users/lixiii/anaconda3/envs/time/lib/python3.7/site-packages/statsmodels/tsa/holtwinters/model.py:917: ConvergenceWarning: Optimization failed to converge. Check mle_retvals.\n",
      "  ConvergenceWarning,\n"
     ]
    },
    {
     "data": {
      "text/plain": [
       "18.45633168244363"
      ]
     },
     "execution_count": 468,
     "metadata": {},
     "output_type": "execute_result"
    }
   ],
   "source": [
    "evaluate_model(ES,0)"
   ]
  },
  {
   "cell_type": "code",
   "execution_count": 513,
   "metadata": {},
   "outputs": [
    {
     "data": {
      "text/plain": [
       "(array([45., 29., 12.,  6.,  5.,  0.,  0.,  1.,  0.,  2.]),\n",
       " array([ 0.48191015,  7.03338265, 13.58485516, 20.13632766, 26.68780016,\n",
       "        33.23927267, 39.79074517, 46.34221767, 52.89369018, 59.44516268,\n",
       "        65.99663519]),\n",
       " <BarContainer object of 10 artists>)"
      ]
     },
     "execution_count": 513,
     "metadata": {},
     "output_type": "execute_result"
    },
    {
     "data": {
      "image/png": "[encoded data removed]",
      "text/plain": [
       "<Figure size 432x288 with 1 Axes>"
      ]
     },
     "metadata": {
      "needs_background": "light"
     },
     "output_type": "display_data"
    }
   ],
   "source": [
    "plt.hist(es_results)"
   ]
  },
  {
   "cell_type": "code",
   "execution_count": null,
   "metadata": {},
   "outputs": [],
   "source": []
  }
 ],
 "metadata": {
  "kernelspec": {
   "display_name": "Python [conda env:time]",
   "language": "python",
   "name": "conda-env-time-py"
  },
  "language_info": {
   "codemirror_mode": {
    "name": "ipython",
    "version": 3
   },
   "file_extension": ".py",
   "mimetype": "text/x-python",
   "name": "python",
   "nbconvert_exporter": "python",
   "pygments_lexer": "ipython3",
   "version": "3.7.11"
  }
 },
 "nbformat": 4,
 "nbformat_minor": 2
}
